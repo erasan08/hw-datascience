{
 "cells": [
  {
   "cell_type": "markdown",
   "metadata": {},
   "source": [
    "# Project 1\n",
    "\n",
    "In this first project you will create a framework to scope out data science projects. This framework will provide you with a guide to develop a well-articulated problem statement and analysis plan that will be robust and reproducible."
   ]
  },
  {
   "cell_type": "markdown",
   "metadata": {},
   "source": [
    "## Read and evaluate the following problem statement: \n",
    "Identify the various factors that may influence admission into graduate school. It contains four variables- admit, gre, gpa, rank."
   ]
  },
  {
   "cell_type": "markdown",
   "metadata": {},
   "source": [
    "#### 1. What is the outcome?"
   ]
  },
  {
   "cell_type": "markdown",
   "metadata": {},
   "source": [
    "Answer: Should the applicant be admitted to graduate school (y/n)"
   ]
  },
  {
   "cell_type": "markdown",
   "metadata": {},
   "source": [
    "#### 2. What are the predictors/covariates? "
   ]
  },
  {
   "cell_type": "markdown",
   "metadata": {},
   "source": [
    "Answer: GRE score (gre), Grade Point Average in Undergrad (gpa), Rank of Applicant’s Undergrad Alma Mater (rank)"
   ]
  },
  {
   "cell_type": "markdown",
   "metadata": {},
   "source": [
    "#### 3. What timeframe is this data relevant for?"
   ]
  },
  {
   "cell_type": "markdown",
   "metadata": {},
   "source": [
    "Answer: Application window for graduate school as defined by UCLA"
   ]
  },
  {
   "cell_type": "markdown",
   "metadata": {},
   "source": [
    "#### 4. What is the hypothesis?"
   ]
  },
  {
   "cell_type": "markdown",
   "metadata": {},
   "source": [
    "Answer: By analyzing the stated covariates we can determine the probability a range of future variables (GPA,GRE & Rank) will lead to an accepted or rejected applicant to UCLA."
   ]
  },
  {
   "cell_type": "markdown",
   "metadata": {},
   "source": [
    "## Let's get started with our `admissions.csv` dataset"
   ]
  },
  {
   "cell_type": "markdown",
   "metadata": {},
   "source": [
    "#### 1. Create a data dictionary "
   ]
  },
  {
   "cell_type": "markdown",
   "metadata": {},
   "source": [
    "Answer: \n",
    "\n",
    "Variable | Description | Type of Variable\n",
    "---| ---| ---\n",
    "admit |0 = not admitted; 1 = admitted  | categorical, binary\n",
    "GPA | integer| quantitative \n",
    "GRE | integer | quantitative\n",
    "Rank | integer | quantitative, discrete"
   ]
  },
  {
   "cell_type": "markdown",
   "metadata": {},
   "source": [
    "#### 6. Using the above information, write a well-formed problem statement. \n"
   ]
  },
  {
   "cell_type": "markdown",
   "metadata": {},
   "source": [
    "Answer: Identifying applicants who are qualified for graduate school is both a time and capital intensive process. By identifying a handful of quantitative & categorical variables our model's intended goal would be to predict the probability of acceptance. Class rank, GPA & GRE score are traditionally indicative of one's scholatic standing, however these variables are not at all exhaustive. Subjective and other variables not mentioned such as, but not limited to, personal connections, community service, and work experience have a significant impact upon the admission process as well. However, since the standards of these indicators are so inconsistent it would be extremely difficult to retrieve meaningful data from these variables, especially when compared to the uniformity that the previously mentioned variables offer over long periods of time & across national boundaries . By running statistical analysis on the predictors gps, gre & rank our goal is to more easily predict the probability of future applicants acceptance to or rejection from UCLA's graduate program. Once this analysis is executed admissions committee may be able to use the data to determine which future applicants are worth investing more time & attendtion to, creating a more robust student body, minimizing time & funds dedicated to analysis of thousands of lines of data points, & maximizing time to focus on distinguishing characteristics of applicants.\n"
   ]
  },
  {
   "cell_type": "markdown",
   "metadata": {},
   "source": [
    "### Exploratory Analysis Plan"
   ]
  },
  {
   "cell_type": "markdown",
   "metadata": {},
   "source": [
    "Using the lab from a class as a guide, create an exploratory analysis plan. "
   ]
  },
  {
   "cell_type": "markdown",
   "metadata": {},
   "source": [
    "#### 1. What are the goals of the exploratory analysis? "
   ]
  },
  {
   "cell_type": "markdown",
   "metadata": {
    "collapsed": true
   },
   "source": [
    "Answer: The goal of this analysis is to determine which indicators we will look for in the data which determine success, what techniques we will use to perform the analysis, and what tools we can use to visualize & convey the meaning behind our results."
   ]
  },
  {
   "cell_type": "markdown",
   "metadata": {},
   "source": [
    "#### 2a. What are the risks/assumptions regarding the distribution of the data? "
   ]
  },
  {
   "cell_type": "markdown",
   "metadata": {},
   "source": [
    "We must first assume that the scales with which all undergraduate insititutions determine GPA and class rank are standard;fForunately as GRE examinations are conducted by one central issuing authority, it is safe to assume GRE scores will be standard across the data set (barring reporting & other unforeseen/uncontrollable errors).One of the first risks we encounter is that we may be missing out on credible applicants where GPA, GRE score & class rank are not repesentative of academic success. Although our analysis may determine how well these 3 variables correlate with each other, we will have to make assumptions afterwards of how much weight the results have compared to subjective, unmeasured credentials. Secondly, by breaking the class rank variable into a discrete, standard data set we may increase the risk of misrepresentation by grouping statistical outliers into 1 of 4 groups\n"
   ]
  },
  {
   "cell_type": "markdown",
   "metadata": {},
   "source": [
    "#### 2b. How will you determine the distribution of your data? "
   ]
  },
  {
   "cell_type": "markdown",
   "metadata": {
    "collapsed": true
   },
   "source": [
    "Answer: Visually with box plots & histograms as well as standard deviation & variance measurements "
   ]
  },
  {
   "cell_type": "markdown",
   "metadata": {},
   "source": [
    "#### 3a. How might outliers impact your analysis? "
   ]
  },
  {
   "cell_type": "markdown",
   "metadata": {
    "collapsed": true
   },
   "source": [
    "Answer: They may skew the cetnral tendency outcomes of our analysis"
   ]
  },
  {
   "cell_type": "markdown",
   "metadata": {},
   "source": [
    "#### 3b. How will you test for outliers? "
   ]
  },
  {
   "cell_type": "markdown",
   "metadata": {},
   "source": [
    "Answer: We can identify them with graphical representation or use formulas such as the Q or T tests to determine if we should remove them from the analysis"
   ]
  },
  {
   "cell_type": "markdown",
   "metadata": {},
   "source": [
    "#### 4. What is your exploratory analysis plan?\n",
    "Using the above information, write an exploratory analysis plan that would allow you or a colleague to reproduce your analysis 1 year from now. "
   ]
  },
  {
   "cell_type": "markdown",
   "metadata": {},
   "source": [
    "Answer: Exploratory analysis methods which can be used to gain insight into the data include (but are not limited to) logistic regression, & graphical interpretation through histograms & box plots. Our first steps would be to determine the distribution of our class rank, GRE and GPA data as well as measures of central tendency & variability. This can be done visually with a histogram and box plot, with our general assumption that the histogram data will be skewed right for all three variables. We can use these method to test for outliers as well. In regards to outliers I believe it would be essential to include them since we already know the outcome of their application process. Outliers will allow us to more accurately determine if our model is a fit for the widest range of applicants. After determining distribution our next step will be to determine the correlation of our variables to one another through logistic regression. We can then determine the weight of the changing of one variable with all others constant through the odds tests to ascertain which variables have the greatest impact on admittance.\n"
   ]
  },
  {
   "cell_type": "markdown",
   "metadata": {},
   "source": [
    "## Bonus Questions:\n",
    "1. Outline your analysis method for predicting your outcome\n",
    "2. Write an alternative problem statement for your dataset\n",
    "3. Articulate the assumptions and risks of the alternative model"
   ]
  },
  {
   "cell_type": "code",
   "execution_count": null,
   "metadata": {
    "collapsed": true
   },
   "outputs": [],
   "source": []
  }
 ],
 "metadata": {
  "kernelspec": {
   "display_name": "Python 2",
   "language": "python",
   "name": "python2"
  },
  "language_info": {
   "codemirror_mode": {
    "name": "ipython",
    "version": 2
   },
   "file_extension": ".py",
   "mimetype": "text/x-python",
   "name": "python",
   "nbconvert_exporter": "python",
   "pygments_lexer": "ipython2",
   "version": "2.7.13"
  }
 },
 "nbformat": 4,
 "nbformat_minor": 0
}
